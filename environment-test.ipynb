{
 "cells": [
  {
   "cell_type": "code",
   "execution_count": null,
   "metadata": {},
   "outputs": [],
   "source": [
    "import sys\n",
    "print(\"Python version:\", sys.version)\n",
    "import pandas as pd\n",
    "print(\"pandas version:\", pd.__version__)\n",
    "import matplotlib\n",
    "print(\"matplotlib version:\", matplotlib.__version__)\n",
    "import numpy as np\n",
    "print(\"NumPy version:\", np.__version__)\n",
    "import scipy as sp\n",
    "print(\"SciPy version:\", sp.__version__)\n",
    "import IPython\n",
    "print(\"IPython version:\", IPython.__version__)\n",
    "import sklearn\n",
    "print(\"scikit-learn version:\", sklearn.__version__)\n",
    "import yellowbrick\n",
    "print(\"yellowbrick version:\", yellowbrick.__version__)"
   ]
  }
 ],
 "metadata": {
  "kernelspec": {
   "display_name": "Python 3.9.13 ('ensf-611')",
   "language": "python",
   "name": "python3"
  },
  "language_info": {
   "name": "python",
   "version": "3.9.13"
  },
  "orig_nbformat": 4,
  "vscode": {
   "interpreter": {
    "hash": "1a197d0f1a0723a069b03001a973ebfbc8f510da8e5677ddde343733fe539082"
   }
  }
 },
 "nbformat": 4,
 "nbformat_minor": 2
}
