{
 "cells": [
  {
   "cell_type": "code",
   "execution_count": 2,
   "metadata": {},
   "outputs": [
    {
     "name": "stdout",
     "output_type": "stream",
     "text": [
      "Python version: 3.9.13 (main, Aug 25 2022, 23:26:10) \n",
      "[GCC 11.2.0]\n",
      "pandas version: 1.5.0\n",
      "matplotlib version: 3.5.2\n",
      "NumPy version: 1.21.5\n",
      "SciPy version: 1.7.3\n",
      "IPython version: 8.5.0\n",
      "scikit-learn version: 1.1.1\n",
      "yellowbrick version: 1.5\n",
      "# conda environments:\n",
      "#\n",
      "base                     /home/graeme/anaconda3\n",
      "ENSF592                  /home/graeme/anaconda3/envs/ENSF592\n",
      "ensf-611              *  /home/graeme/anaconda3/envs/ensf-611\n",
      "ensf-ml                  /home/graeme/anaconda3/envs/ensf-ml\n",
      "\n",
      "Conda environment name is ensf-611. Output current environment below:\n",
      "ensf-611\n"
     ]
    }
   ],
   "source": [
    "import sys\n",
    "print(\"Python version:\", sys.version)\n",
    "import pandas as pd\n",
    "print(\"pandas version:\", pd.__version__)\n",
    "import matplotlib\n",
    "print(\"matplotlib version:\", matplotlib.__version__)\n",
    "import numpy as np\n",
    "print(\"NumPy version:\", np.__version__)\n",
    "import scipy as sp\n",
    "print(\"SciPy version:\", sp.__version__)\n",
    "import IPython\n",
    "print(\"IPython version:\", IPython.__version__)\n",
    "import sklearn\n",
    "print(\"scikit-learn version:\", sklearn.__version__)\n",
    "import yellowbrick\n",
    "print(\"yellowbrick version:\", yellowbrick.__version__)\n",
    "\n",
    "!conda info --envs\n",
    "print(\"Conda environment name for this class is ensf-611. Output current environment below:\")\n",
    "print(os.environ['CONDA_DEFAULT_ENV'])"
   ]
  }
 ],
 "metadata": {
  "kernelspec": {
   "display_name": "Python 3.9.13 ('ensf-611')",
   "language": "python",
   "name": "python3"
  },
  "language_info": {
   "codemirror_mode": {
    "name": "ipython",
    "version": 3
   },
   "file_extension": ".py",
   "mimetype": "text/x-python",
   "name": "python",
   "nbconvert_exporter": "python",
   "pygments_lexer": "ipython3",
   "version": "3.9.13"
  },
  "orig_nbformat": 4,
  "vscode": {
   "interpreter": {
    "hash": "1a197d0f1a0723a069b03001a973ebfbc8f510da8e5677ddde343733fe539082"
   }
  }
 },
 "nbformat": 4,
 "nbformat_minor": 2
}
